{
  "cells": [
    {
      "cell_type": "raw",
      "metadata": {},
      "source": [
        "---\n",
        "title: Homework 7 - Creating a resume database\n",
        "author: (Nathan Townsend)\n",
        "date: 11/11/2023\n",
        "format:\n",
        "    html:\n",
        "        theme: cosmo\n",
        "        toc: true\n",
        "        embed-resources: true\n",
        "        code-copy: true\n",
        "---"
      ],
      "id": "42c95e09"
    },
    {
      "cell_type": "markdown",
      "metadata": {},
      "source": [
        "(include a brief description of what is in this document)\n",
        "\n",
        "\n",
        "\n",
        "GITHUB URL:  <https://github.com/cmsc-vcu/cmsc508-fa2023-hw7-NateTownsend26/edit/main/hw7/hw7.qmd>\n"
      ],
      "id": "51cd38df"
    },
    {
      "cell_type": "code",
      "metadata": {},
      "source": [
        "#| eval: true\n",
        "#| echo: false\n",
        "import os\n",
        "import sys\n",
        "import pandas as pd\n",
        "from tabulate import tabulate\n",
        "from dotenv import load_dotenv\n",
        "from sqlalchemy import create_engine, text\n",
        "from sqlalchemy.exc import OperationalError, ProgrammingError\n",
        "from IPython.display import display, Markdown"
      ],
      "id": "59c17bad",
      "execution_count": null,
      "outputs": []
    },
    {
      "cell_type": "code",
      "metadata": {},
      "source": [
        "#| eval: true\n",
        "#| echo: false\n",
        "\n",
        "# modify config_map to reflect credentials needed by this program\n",
        "config_map = {\n",
        "    'user':'CMSC508_USER',\n",
        "    'password':'CMSC508_PASSWORD',\n",
        "    'host':'CMSC508_HOST',\n",
        "    'database':'HW7_DB_NAME'\n",
        "}\n",
        "# load and store credentials\n",
        "load_dotenv()\n",
        "config = {}\n",
        "for key in config_map.keys():\n",
        "    config[key] = os.getenv(config_map[key])\n",
        "flag = False\n",
        "for param in config.keys():\n",
        "    if config[param] is None:\n",
        "        flag = True\n",
        "        print(f\"Missing {config_map[param]} in .env file\")\n",
        "#if flag:\n",
        "#    sys.exit(1)"
      ],
      "id": "b932d287",
      "execution_count": null,
      "outputs": []
    },
    {
      "cell_type": "code",
      "metadata": {},
      "source": [
        "#| eval: true\n",
        "#| echo: false\n",
        "\n",
        "# build a sqlalchemy engine string\n",
        "engine_uri = f\"mysql+pymysql://{config['user']}:{config['password']}@{config['host']}/{config['database']}\"\n",
        "\n",
        "# create a database connection.  THIS IS THE ACTUAL CONNECTION!\n",
        "try:\n",
        "    cnx = create_engine(engine_uri)\n",
        "except ArgumentError as e:\n",
        "    print(f\"create_engine: Argument Error: {e}\")\n",
        "    #sys.exit(1)\n",
        "except NoSuchModuleError as e:\n",
        "    print(f\"create_engine: No Such Module Error: {e}\")\n",
        "    #sys.exit(1)\n",
        "except Exception as e:\n",
        "    print(f\"create_engine: An error occurred: {e}\")\n",
        "    #sys.exit(1)"
      ],
      "id": "91cece82",
      "execution_count": null,
      "outputs": []
    },
    {
      "cell_type": "code",
      "metadata": {},
      "source": [
        "#| echo: false\n",
        "#| eval: true\n",
        "\n",
        "# Do a quick test of the connection and trap the errors better!\n",
        "try:\n",
        "    databases = pd.read_sql(\"show databases\",cnx)\n",
        "except ImportError as e:\n",
        "    print(f\"Error: {e}\")\n",
        "except OperationalError as e:\n",
        "    print(f\"Database/SQL Error:\\n{str(e)}\\n\")\n",
        "except ProgrammingError as e:\n",
        "    print(f\"Programming Error:\\n{str(e)}\\n\")\n",
        "except Exception as e:\n",
        "    print(f\"An error occurred:\\n{str(e)}\\n\")"
      ],
      "id": "f90b4e58",
      "execution_count": null,
      "outputs": []
    },
    {
      "cell_type": "markdown",
      "metadata": {},
      "source": [
        "## Overview and description\n",
        "\n",
        "The primary goal of this assignment is to showcase a high level of proficiency in SQL by undertaking tasks involving the creation, population, and querying of a relational database.\n",
        "\n",
        "The structured database encompasses tables designed to store information about individuals (people), their respective skills (skills), the various roles they might undertake (roles), and the specific skills attributed to each person (peopleskills). Additionally, a table is dedicated to mapping individuals to their corresponding roles (peopleroles).\n",
        "\n",
        "Each table serves a distinct purpose within the database, contributing to a comprehensive representation of the data. The provided sample queries in the documentation serve as practical illustrations of how to extract valuable insights from this dataset. Examples include identifying all individuals with a particular skill or role, compiling a list of unused skills, and pinpointing individuals lacking any registered skills. These queries are specifically formulated for execution in a Jupyter notebook environment, leveraging Python for seamless connectivity and interaction with the MySQL database.\n",
        "\n",
        "## Crows-foot diagram\n",
        "\n",
        "(add a description of the diagram and what the reader is seeing.)\n",
        "\n",
        "\n",
        "```{mermaid}\n",
        "%%| echo: false\n",
        "erDiagram\n",
        "    CUSTOMER ||--o{ ORDER : places\n",
        "    CUSTOMER }|..|{ DELIVERY-ADDRESS : uses\n",
        "    CUSTOMER{\n",
        "        int id\n",
        "        string first_name\n",
        "        string last_name\n",
        "    }\n",
        "    DELIVERY-ADDRESS {\n",
        "        int id\n",
        "    }\n",
        "```\n",
        "\n",
        "\n",
        "## Examples of data in the database\n",
        "\n",
        "For the people, skills, and roles tables, provide a description of each table and it's contents. Then provide a listing of the entire table.\n",
        "\n",
        "### People table\n",
        "\n",
        "The *people* table contains elements that describe\n",
        "\n",
        "Below is a list of data in the *people* table.\n"
      ],
      "id": "7a1096e5"
    },
    {
      "cell_type": "code",
      "metadata": {},
      "source": [
        "#| echo: false\n",
        "#| eval: true\n",
        "sql = f\"\"\"\n",
        "select * from people;\n",
        "\"\"\"\n",
        "## Add code to list roles table here\n",
        "try:\n",
        "    df = pd.read_sql(sql,cnx)\n",
        "    df\n",
        "except Exception as e:\n",
        "    message = str(e)\n",
        "    print(f\"An error occurred:\\n\\n{message}\\n\\nIgnoring and moving on.\")\n",
        "    df = pd.DataFrame()\n",
        "df"
      ],
      "id": "b280da96",
      "execution_count": null,
      "outputs": []
    },
    {
      "cell_type": "markdown",
      "metadata": {},
      "source": [
        "### Skills table\n",
        "\n",
        "The *skills* table contains elements that describe ... \n",
        "\n",
        "Below is a list of data in the *skills* table.\n"
      ],
      "id": "7de8c2f0"
    },
    {
      "cell_type": "code",
      "metadata": {},
      "source": [
        "#| echo: false\n",
        "#| eval: true\n",
        "\n",
        "try:\n",
        "    df = pd.read_sql(sql,cnx)\n",
        "    df\n",
        "except Exception as e:\n",
        "    message = str(e)\n",
        "    print(f\"An error occurred:\\n\\n{message}\\n\\nIgnoring and moving on.\")\n",
        "    df = pd.DataFrame()\n",
        "df"
      ],
      "id": "e1aee090",
      "execution_count": null,
      "outputs": []
    },
    {
      "cell_type": "markdown",
      "metadata": {},
      "source": [
        "### Roles table\n",
        "\n",
        "The *roles* table contains elements that describe ... \n",
        "\n",
        "Below is a list of data in the *roles* table.\n"
      ],
      "id": "2530a4c5"
    },
    {
      "cell_type": "code",
      "metadata": {},
      "source": [
        "#| echo: false\n",
        "#| eval: true\n",
        "\n",
        "try:\n",
        "    df = pd.read_sql(sql,cnx)\n",
        "    df\n",
        "except Exception as e:\n",
        "    message = str(e)\n",
        "    print(f\"An error occurred:\\n\\n{message}\\n\\nIgnoring and moving on.\")\n",
        "    df = pd.DataFrame()\n",
        "df"
      ],
      "id": "5c2ab7e8",
      "execution_count": null,
      "outputs": []
    },
    {
      "cell_type": "markdown",
      "metadata": {},
      "source": [
        "## Sample queries\n",
        "\n",
        "Let's explore the database!\n",
        "\n",
        "# List skill names, tags, and descriptions ordered by name\n"
      ],
      "id": "bce0dbb0"
    },
    {
      "cell_type": "code",
      "metadata": {},
      "source": [
        "sql = f\"\"\"\n",
        "select * from people\n",
        "\"\"\"\n",
        "try:\n",
        "    df = pd.read_sql(sql,cnx)\n",
        "    df\n",
        "except Exception as e:\n",
        "    message = str(e)\n",
        "    print(f\"An error occurred:\\n\\n{message}\\n\\nIgnoring and moving on.\")\n",
        "    df = pd.DataFrame()\n",
        "df"
      ],
      "id": "756752c5",
      "execution_count": null,
      "outputs": []
    },
    {
      "cell_type": "markdown",
      "metadata": {},
      "source": [
        "(and here is a sample result from the query)\n"
      ],
      "id": "94875cdd"
    },
    {
      "cell_type": "code",
      "metadata": {},
      "source": [
        "#| echo: false\n",
        "#| eval: true\n",
        "try:\n",
        "    df = pd.read_sql(sql,cnx)\n",
        "    df\n",
        "except Exception as e:\n",
        "    message = str(e)\n",
        "    print(f\"An error occurred:\\n\\n{message}\\n\\nIgnoring and moving on.\")\n",
        "    df = pd.DataFrame()\n",
        "df"
      ],
      "id": "e5b85639",
      "execution_count": null,
      "outputs": []
    },
    {
      "cell_type": "markdown",
      "metadata": {},
      "source": [
        "### List people names and email addresses ordered by last_name"
      ],
      "id": "694a7389"
    },
    {
      "cell_type": "code",
      "metadata": {},
      "source": [
        "#| echo: false\n",
        "#| eval: true\n",
        "sql = f\"\"\"\n",
        "SELECT first_name, last_name, email\n",
        "FROM people\n",
        "ORDER BY last_name ASC;\n",
        "\"\"\"\n",
        "try:\n",
        "    df = pd.read_sql(sql,cnx)\n",
        "    df\n",
        "except Exception as e:\n",
        "    message = str(e)\n",
        "    print(f\"An error occurred:\\n\\n{message}\\n\\nIgnoring and moving on.\")\n",
        "    df = pd.DataFrame()\n",
        "df"
      ],
      "id": "836fe9ab",
      "execution_count": null,
      "outputs": []
    },
    {
      "cell_type": "markdown",
      "metadata": {},
      "source": [
        "### List skill names of Person 1"
      ],
      "id": "f7c24b8d"
    },
    {
      "cell_type": "code",
      "metadata": {},
      "source": [
        "#| echo: false\n",
        "#| eval: true\n",
        "sql = f\"\"\"\n",
        "SELECT s.skills_name\n",
        "FROM skills s\n",
        "JOIN peopleskills ps ON s.skills_id = ps.skills_id\n",
        "WHERE ps.people_id = 1;\n",
        "\n",
        "\"\"\"\n",
        "try:\n",
        "    df = pd.read_sql(sql,cnx)\n",
        "    df\n",
        "except Exception as e:\n",
        "    message = str(e)\n",
        "    print(f\"An error occurred:\\n\\n{message}\\n\\nIgnoring and moving on.\")\n",
        "    df = pd.DataFrame()\n",
        "df"
      ],
      "id": "2c653728",
      "execution_count": null,
      "outputs": []
    },
    {
      "cell_type": "markdown",
      "metadata": {},
      "source": [
        "### List people names with Skill 6"
      ],
      "id": "ce75dbdb"
    },
    {
      "cell_type": "code",
      "metadata": {},
      "source": [
        "#| echo: false\n",
        "#| eval: true\n",
        "sql = f\"\"\"\n",
        "SELECT p.first_name, p.last_name\n",
        "FROM people p\n",
        "JOIN peopleskills ps ON p.people_id = ps.people_id\n",
        "WHERE ps.skills_id = 6;\n",
        "\"\"\"\n",
        "try:\n",
        "    df = pd.read_sql(sql,cnx)\n",
        "    df\n",
        "except Exception as e:\n",
        "    message = str(e)\n",
        "    print(f\"An error occurred:\\n\\n{message}\\n\\nIgnoring and moving on.\")\n",
        "    df = pd.DataFrame()\n",
        "df"
      ],
      "id": "d1b3ef64",
      "execution_count": null,
      "outputs": []
    },
    {
      "cell_type": "markdown",
      "metadata": {},
      "source": [
        "### List people with a DEVELOPER role"
      ],
      "id": "15e4d833"
    },
    {
      "cell_type": "code",
      "metadata": {},
      "source": [
        "#| echo: false\n",
        "#| eval: true\n",
        "sql = f\"\"\"\n",
        "SELECT p.first_name, p.last_name\n",
        "FROM people p\n",
        "JOIN peopleroles pr ON p.people_id = pr.people_id\n",
        "JOIN roles r ON pr.role_id = r.roles_id\n",
        "WHERE r.roles_name = 'Developer';\n",
        "\"\"\"\n",
        "try:\n",
        "    df = pd.read_sql(sql,cnx)\n",
        "    df\n",
        "except Exception as e:\n",
        "    message = str(e)\n",
        "    print(f\"An error occurred:\\n\\n{message}\\n\\nIgnoring and moving on.\")\n",
        "    df = pd.DataFrame()\n",
        "df"
      ],
      "id": "2534a9f5",
      "execution_count": null,
      "outputs": []
    },
    {
      "cell_type": "markdown",
      "metadata": {},
      "source": [
        "### List names and email addresses of people without skills"
      ],
      "id": "06db0bed"
    },
    {
      "cell_type": "code",
      "metadata": {},
      "source": [
        "#| echo: false\n",
        "#| eval: true\n",
        "sql = f\"\"\"\n",
        "SELECT p.first_name, p.last_name, p.email\n",
        "FROM people p\n",
        "LEFT JOIN peopleskills ps ON p.people_id = ps.people_id\n",
        "WHERE ps.skills_id IS NULL;\n",
        "\"\"\"\n",
        "try:\n",
        "    df = pd.read_sql(sql,cnx)\n",
        "    df\n",
        "except Exception as e:\n",
        "    message = str(e)\n",
        "    print(f\"An error occurred:\\n\\n{message}\\n\\nIgnoring and moving on.\")\n",
        "    df = pd.DataFrame()\n",
        "df"
      ],
      "id": "a9dc4ee4",
      "execution_count": null,
      "outputs": []
    },
    {
      "cell_type": "markdown",
      "metadata": {},
      "source": [
        "### List names and tags of unused skills"
      ],
      "id": "cef4695a"
    },
    {
      "cell_type": "code",
      "metadata": {},
      "source": [
        "#| echo: false\n",
        "#| eval: true\n",
        "sql = f\"\"\"\n",
        "SELECT s.skills_name, s.skills_tag\n",
        "FROM skills s\n",
        "LEFT JOIN peopleskills ps ON s.skills_id = ps.skills_id\n",
        "WHERE ps.people_id IS NULL;\n",
        "\"\"\"\n",
        "try:\n",
        "    df = pd.read_sql(sql,cnx)\n",
        "    df\n",
        "except Exception as e:\n",
        "    message = str(e)\n",
        "    print(f\"An error occurred:\\n\\n{message}\\n\\nIgnoring and moving on.\")\n",
        "    df = pd.DataFrame()\n",
        "df"
      ],
      "id": "2ee9382e",
      "execution_count": null,
      "outputs": []
    },
    {
      "cell_type": "markdown",
      "metadata": {},
      "source": [
        "### List people names and skill names with the BOSS role"
      ],
      "id": "bad9f676"
    },
    {
      "cell_type": "code",
      "metadata": {},
      "source": [
        "#| echo: false\n",
        "#| eval: true\n",
        "sql = f\"\"\"\n",
        "SELECT DISTINCT p.first_name, p.last_name, s.skills_name\n",
        "FROM people p\n",
        "JOIN peopleroles pr ON p.people_id = pr.people_id\n",
        "JOIN roles r ON pr.role_id = r.roles_id AND r.roles_name = 'Boss'\n",
        "LEFT JOIN peopleskills ps ON p.people_id = ps.people_id\n",
        "LEFT JOIN skills s ON ps.skills_id = s.skills_id;\n",
        "\"\"\"\n",
        "try:\n",
        "    df = pd.read_sql(sql,cnx)\n",
        "    df\n",
        "except Exception as e:\n",
        "    message = str(e)\n",
        "    print(f\"An error occurred:\\n\\n{message}\\n\\nIgnoring and moving on.\")\n",
        "    df = pd.DataFrame()\n",
        "df"
      ],
      "id": "06f88220",
      "execution_count": null,
      "outputs": []
    },
    {
      "cell_type": "markdown",
      "metadata": {},
      "source": [
        "### List ids and names of unused roles"
      ],
      "id": "f6759cfe"
    },
    {
      "cell_type": "code",
      "metadata": {},
      "source": [
        "#| echo: false\n",
        "#| eval: true\n",
        "sql = f\"\"\"\n",
        "SELECT r.roles_id, r.roles_name\n",
        "FROM roles r\n",
        "LEFT JOIN peopleroles pr ON r.roles_id = pr.role_id\n",
        "WHERE pr.people_id IS NULL;\n",
        "\"\"\"\n",
        "try:\n",
        "    df = pd.read_sql(sql,cnx)\n",
        "    df\n",
        "except Exception as e:\n",
        "    message = str(e)\n",
        "    print(f\"An error occurred:\\n\\n{message}\\n\\nIgnoring and moving on.\")\n",
        "    df = pd.DataFrame()\n",
        "df"
      ],
      "id": "07b6d8f9",
      "execution_count": null,
      "outputs": []
    },
    {
      "cell_type": "markdown",
      "metadata": {},
      "source": [
        "## Reflection\n",
        "\n",
        "Embarking on this database project has been a fascinating journey into the practical application of relational database theory. It involved a hands-on exploration that effectively connected abstract concepts with the real-world intricacies of designing databases. By carefully crafting a database schema, establishing relationships, and creatively populating tables, I gained a deep understanding of how essential database normalization principles shape efficient data organization.\n",
        "\n",
        "Throughout the project, there was a strong emphasis on the precision of naming conventions and the foresight required for scalability planning. The manual assignment of IDs to specific tables, followed by the transition to auto-increment, highlighted the shift from manual control to database-managed processes. Additionally, the need to consider NULL handling prompted thoughtful reflection on the nature of data and its representation.\n",
        "\n",
        "In summary, this project provided a clear insight into the realm of database administration, illustrating the meticulous care and strategic thinking involved in developing robust data management systems.\n"
      ],
      "id": "6d4e481b"
    }
  ],
  "metadata": {
    "kernelspec": {
      "name": "python3",
      "language": "python",
      "display_name": "Python 3 (ipykernel)"
    }
  },
  "nbformat": 4,
  "nbformat_minor": 5
}